{
 "cells": [
  {
   "cell_type": "markdown",
   "metadata": {},
   "source": [
    "## King county house price prediction\n"
   ]
  },
  {
   "cell_type": "markdown",
   "metadata": {},
   "source": [
    "### Data source:\n",
    "https://www.kaggle.com/harlfoxem/housesalesprediction/code\n",
    "### Tasks:\n",
    "1. Finding significant features in housing sales\n",
    "2. Predicting housing prices according to selected and engineered features\n",
    "\n",
    "### Pipeline\n",
    "1. EDA & Data Cleaning\n",
    "2. Data Preprocessing\n",
    "    - Feature Engineering\n",
    "    - Feature Representation\n",
    "        - Standardization\n",
    "        - Encoding\n",
    "    - Train/Test/Validation split\n",
    "2. Model Selection\n",
    "3. Model Building\n",
    "   - Model Training\n",
    "   - Parameter Tuning\n",
    "4. Model Evaluation\n",
    "5. Model Interpretation \n",
    "   - Error Analysis\n",
    "   - Feature Importance\n",
    "   - Under-fitting vs over-fitting"
   ]
  },
  {
   "cell_type": "markdown",
   "metadata": {},
   "source": [
    "### Variables:\n",
    "- Target:\n",
    "<font color='red'>House sales price</font>\n",
    "\n",
    "- Available variables:\n",
    "\n",
    "1. **Time Variables**\n",
    "\n",
    "&emsp;&nbsp;<font color='blue'>date</font>  - Date of the home sale\n",
    "\n",
    "&emsp;&nbsp;<font color='blue'>yr_built</font> - The year the house was initially built\n",
    "\n",
    "&emsp;&nbsp;<font color='blue'>yr_renovated</font> - The year of the house’s last renovation, 0 means no renovation\n",
    "\n",
    "2. **Geographical Variables**\n",
    "\n",
    "&emsp;&nbsp;<font color='blue'>lat</font> - Lattitude\n",
    "\n",
    "&emsp;&nbsp;<font color='blue'>long</font> - Longitude\n",
    "\n",
    "\n",
    "3. **Categorical Variables**\n",
    "\n",
    "&emsp;&nbsp;<font color='blue'>zipcode</font> - What zipcode area the house is in\n",
    "\n",
    "&emsp;&nbsp;<font color='blue'>grade</font> - An index from 1 to 13, where 1-3 falls short of building\n",
    "construction and design, 7 has an average level of construction and design, and 11-13 have a high quality level of construction and design.\n",
    "\n",
    "&emsp;&nbsp;<font color='blue'>waterfront</font>  - A dummy variable for whether the apartment was overlooking the waterfront or not\n",
    "\n",
    "&emsp;&nbsp;<font color='blue'>id</font>  - Unique ID for each home sold (will not be used)\n",
    "\n",
    "\n",
    "\n",
    "2. **Numerical Variables**\n",
    "\n",
    "&emsp;&nbsp;<font color='blue'>bedrooms</font>  - Number of bedrooms\n",
    "\n",
    "&emsp;&nbsp;<font color='blue'>bathrooms</font>  - Number of bathrooms, where 0.5 accounts for a room with a toilet but no shower\n",
    "\n",
    "&emsp;&nbsp;<font color='blue'>sqft_living</font>  - Square footage of the apartments interior living space\n",
    "\n",
    "&emsp;&nbsp;<font color='blue'>sqft_lot</font>  - Square footage of the land space\n",
    "\n",
    "&emsp;&nbsp;<font color='blue'>sqft_above</font> - The square footage of the interior housing space that is above ground level\n",
    "\n",
    "&emsp;&nbsp;<font color='blue'>sqft_basement</font> - The square footage of the interior housing space that is below ground level\n",
    "\n",
    "&emsp;&nbsp;<font color='blue'>sqft_living15</font> - The square footage of interior housing living space for the nearest 15 neighbors\n",
    "\n",
    "&emsp;&nbsp;<font color='blue'>sqft_lot15</font> - The square footage of the land lots of the nearest 15 neighbors\n",
    "\n",
    "&emsp;&nbsp;<font color='blue'>floors</font>  - Number of floors\n",
    "\n",
    "&emsp;&nbsp;<font color='blue'>view</font> - An index from 0 to 4 of how good the view of the property was\n",
    "\n",
    "&emsp;&nbsp;<font color='blue'>condition</font> - An index from 1 to 5 on the condition of the apartment\n"
   ]
  },
  {
   "cell_type": "markdown",
   "metadata": {},
   "source": [
    "### Imports"
   ]
  },
  {
   "cell_type": "code",
   "execution_count": 21,
   "metadata": {},
   "outputs": [],
   "source": [
    "# Data Exploration\n",
    "import pandas as pd\n",
    "import numpy as np\n",
    "import matplotlib.pyplot as plt\n",
    "import seaborn as sns\n",
    "sns.set_style('whitegrid')\n",
    "%matplotlib inline\n",
    "\n",
    "# Data Preprocessing\n",
    "from sklearn.preprocessing import OneHotEncoder, StandardScaler\n",
    "from sklearn.compose import ColumnTransformer\n",
    "from sklearn.pipeline import Pipeline\n",
    "from sklearn.model_selection import train_test_split\n",
    "\n",
    "# Model Training\n",
    "from sklearn.linear_model import Ridge\n",
    "from sklearn.ensemble import RandomForestRegressor\n",
    "from xgboost import XGBRegressor\n",
    "\n",
    "# Parameter Tuning\n",
    "from sklearn.model_selection import GridSearchCV\n",
    "from sklearn.model_selection import cross_val_score\n",
    "\n",
    "# Model Evaluation\n",
    "from sklearn.metrics import mean_squared_error, mean_absolute_error, r2_score, make_scorer\n",
    "from sklearn.model_selection import train_test_split, cross_val_score, KFold, cross_validate\n",
    "\n",
    "import warnings\n",
    "warnings.filterwarnings('ignore')"
   ]
  },
  {
   "cell_type": "markdown",
   "metadata": {},
   "source": [
    "### Load data"
   ]
  },
  {
   "cell_type": "code",
   "execution_count": 22,
   "metadata": {},
   "outputs": [
    {
     "data": {
      "text/html": [
       "<div>\n",
       "<style scoped>\n",
       "    .dataframe tbody tr th:only-of-type {\n",
       "        vertical-align: middle;\n",
       "    }\n",
       "\n",
       "    .dataframe tbody tr th {\n",
       "        vertical-align: top;\n",
       "    }\n",
       "\n",
       "    .dataframe thead th {\n",
       "        text-align: right;\n",
       "    }\n",
       "</style>\n",
       "<table border=\"1\" class=\"dataframe\">\n",
       "  <thead>\n",
       "    <tr style=\"text-align: right;\">\n",
       "      <th></th>\n",
       "      <th>date</th>\n",
       "      <th>price</th>\n",
       "      <th>bedrooms</th>\n",
       "      <th>bathrooms</th>\n",
       "      <th>sqft_living</th>\n",
       "      <th>sqft_lot</th>\n",
       "      <th>floors</th>\n",
       "      <th>waterfront</th>\n",
       "      <th>view</th>\n",
       "      <th>condition</th>\n",
       "      <th>grade</th>\n",
       "      <th>sqft_above</th>\n",
       "      <th>sqft_basement</th>\n",
       "      <th>yr_built</th>\n",
       "      <th>yr_renovated</th>\n",
       "      <th>zipcode</th>\n",
       "      <th>lat</th>\n",
       "      <th>long</th>\n",
       "      <th>sqft_living15</th>\n",
       "      <th>sqft_lot15</th>\n",
       "    </tr>\n",
       "  </thead>\n",
       "  <tbody>\n",
       "    <tr>\n",
       "      <th>0</th>\n",
       "      <td>20141013T000000</td>\n",
       "      <td>221900.0</td>\n",
       "      <td>3</td>\n",
       "      <td>1.00</td>\n",
       "      <td>1180</td>\n",
       "      <td>5650</td>\n",
       "      <td>1.0</td>\n",
       "      <td>0</td>\n",
       "      <td>0</td>\n",
       "      <td>3</td>\n",
       "      <td>7</td>\n",
       "      <td>1180</td>\n",
       "      <td>0</td>\n",
       "      <td>1955</td>\n",
       "      <td>0</td>\n",
       "      <td>98178</td>\n",
       "      <td>47.5112</td>\n",
       "      <td>-122.257</td>\n",
       "      <td>1340</td>\n",
       "      <td>5650</td>\n",
       "    </tr>\n",
       "    <tr>\n",
       "      <th>1</th>\n",
       "      <td>20141209T000000</td>\n",
       "      <td>538000.0</td>\n",
       "      <td>3</td>\n",
       "      <td>2.25</td>\n",
       "      <td>2570</td>\n",
       "      <td>7242</td>\n",
       "      <td>2.0</td>\n",
       "      <td>0</td>\n",
       "      <td>0</td>\n",
       "      <td>3</td>\n",
       "      <td>7</td>\n",
       "      <td>2170</td>\n",
       "      <td>400</td>\n",
       "      <td>1951</td>\n",
       "      <td>1991</td>\n",
       "      <td>98125</td>\n",
       "      <td>47.7210</td>\n",
       "      <td>-122.319</td>\n",
       "      <td>1690</td>\n",
       "      <td>7639</td>\n",
       "    </tr>\n",
       "    <tr>\n",
       "      <th>2</th>\n",
       "      <td>20150225T000000</td>\n",
       "      <td>180000.0</td>\n",
       "      <td>2</td>\n",
       "      <td>1.00</td>\n",
       "      <td>770</td>\n",
       "      <td>10000</td>\n",
       "      <td>1.0</td>\n",
       "      <td>0</td>\n",
       "      <td>0</td>\n",
       "      <td>3</td>\n",
       "      <td>6</td>\n",
       "      <td>770</td>\n",
       "      <td>0</td>\n",
       "      <td>1933</td>\n",
       "      <td>0</td>\n",
       "      <td>98028</td>\n",
       "      <td>47.7379</td>\n",
       "      <td>-122.233</td>\n",
       "      <td>2720</td>\n",
       "      <td>8062</td>\n",
       "    </tr>\n",
       "    <tr>\n",
       "      <th>3</th>\n",
       "      <td>20141209T000000</td>\n",
       "      <td>604000.0</td>\n",
       "      <td>4</td>\n",
       "      <td>3.00</td>\n",
       "      <td>1960</td>\n",
       "      <td>5000</td>\n",
       "      <td>1.0</td>\n",
       "      <td>0</td>\n",
       "      <td>0</td>\n",
       "      <td>5</td>\n",
       "      <td>7</td>\n",
       "      <td>1050</td>\n",
       "      <td>910</td>\n",
       "      <td>1965</td>\n",
       "      <td>0</td>\n",
       "      <td>98136</td>\n",
       "      <td>47.5208</td>\n",
       "      <td>-122.393</td>\n",
       "      <td>1360</td>\n",
       "      <td>5000</td>\n",
       "    </tr>\n",
       "    <tr>\n",
       "      <th>4</th>\n",
       "      <td>20150218T000000</td>\n",
       "      <td>510000.0</td>\n",
       "      <td>3</td>\n",
       "      <td>2.00</td>\n",
       "      <td>1680</td>\n",
       "      <td>8080</td>\n",
       "      <td>1.0</td>\n",
       "      <td>0</td>\n",
       "      <td>0</td>\n",
       "      <td>3</td>\n",
       "      <td>8</td>\n",
       "      <td>1680</td>\n",
       "      <td>0</td>\n",
       "      <td>1987</td>\n",
       "      <td>0</td>\n",
       "      <td>98074</td>\n",
       "      <td>47.6168</td>\n",
       "      <td>-122.045</td>\n",
       "      <td>1800</td>\n",
       "      <td>7503</td>\n",
       "    </tr>\n",
       "  </tbody>\n",
       "</table>\n",
       "</div>"
      ],
      "text/plain": [
       "              date     price  bedrooms  bathrooms  sqft_living  sqft_lot  \\\n",
       "0  20141013T000000  221900.0         3       1.00         1180      5650   \n",
       "1  20141209T000000  538000.0         3       2.25         2570      7242   \n",
       "2  20150225T000000  180000.0         2       1.00          770     10000   \n",
       "3  20141209T000000  604000.0         4       3.00         1960      5000   \n",
       "4  20150218T000000  510000.0         3       2.00         1680      8080   \n",
       "\n",
       "   floors  waterfront  view  condition  grade  sqft_above  sqft_basement  \\\n",
       "0     1.0           0     0          3      7        1180              0   \n",
       "1     2.0           0     0          3      7        2170            400   \n",
       "2     1.0           0     0          3      6         770              0   \n",
       "3     1.0           0     0          5      7        1050            910   \n",
       "4     1.0           0     0          3      8        1680              0   \n",
       "\n",
       "   yr_built  yr_renovated  zipcode      lat     long  sqft_living15  \\\n",
       "0      1955             0    98178  47.5112 -122.257           1340   \n",
       "1      1951          1991    98125  47.7210 -122.319           1690   \n",
       "2      1933             0    98028  47.7379 -122.233           2720   \n",
       "3      1965             0    98136  47.5208 -122.393           1360   \n",
       "4      1987             0    98074  47.6168 -122.045           1800   \n",
       "\n",
       "   sqft_lot15  \n",
       "0        5650  \n",
       "1        7639  \n",
       "2        8062  \n",
       "3        5000  \n",
       "4        7503  "
      ]
     },
     "execution_count": 22,
     "metadata": {},
     "output_type": "execute_result"
    }
   ],
   "source": [
    "house = pd.read_csv('kc_house_data.csv')\n",
    "house = house.drop(columns=[\"id\"])\n",
    "house.head()"
   ]
  },
  {
   "cell_type": "code",
   "execution_count": 23,
   "metadata": {},
   "outputs": [
    {
     "name": "stdout",
     "output_type": "stream",
     "text": [
      "<class 'pandas.core.frame.DataFrame'>\n",
      "RangeIndex: 21613 entries, 0 to 21612\n",
      "Data columns (total 20 columns):\n",
      " #   Column         Non-Null Count  Dtype  \n",
      "---  ------         --------------  -----  \n",
      " 0   date           21613 non-null  object \n",
      " 1   price          21613 non-null  float64\n",
      " 2   bedrooms       21613 non-null  int64  \n",
      " 3   bathrooms      21613 non-null  float64\n",
      " 4   sqft_living    21613 non-null  int64  \n",
      " 5   sqft_lot       21613 non-null  int64  \n",
      " 6   floors         21613 non-null  float64\n",
      " 7   waterfront     21613 non-null  int64  \n",
      " 8   view           21613 non-null  int64  \n",
      " 9   condition      21613 non-null  int64  \n",
      " 10  grade          21613 non-null  int64  \n",
      " 11  sqft_above     21613 non-null  int64  \n",
      " 12  sqft_basement  21613 non-null  int64  \n",
      " 13  yr_built       21613 non-null  int64  \n",
      " 14  yr_renovated   21613 non-null  int64  \n",
      " 15  zipcode        21613 non-null  int64  \n",
      " 16  lat            21613 non-null  float64\n",
      " 17  long           21613 non-null  float64\n",
      " 18  sqft_living15  21613 non-null  int64  \n",
      " 19  sqft_lot15     21613 non-null  int64  \n",
      "dtypes: float64(5), int64(14), object(1)\n",
      "memory usage: 3.3+ MB\n"
     ]
    },
    {
     "data": {
      "text/plain": [
       "'No missing values'"
      ]
     },
     "execution_count": 23,
     "metadata": {},
     "output_type": "execute_result"
    }
   ],
   "source": [
    "house.info()\n",
    "\"No missing values\""
   ]
  },
  {
   "cell_type": "markdown",
   "metadata": {},
   "source": [
    "### Data Preprocessing\n",
    "\n",
    "In this section, we focus on making the data ready to use for ML models. It includes:\n",
    "- EDA & feature engineering\n",
    "- Building pipeline (feature representation)\n",
    "- Split"
   ]
  },
  {
   "cell_type": "markdown",
   "metadata": {},
   "source": [
    "##### EDA & Feature engineer"
   ]
  },
  {
   "cell_type": "markdown",
   "metadata": {},
   "source": [
    "- house age:"
   ]
  },
  {
   "cell_type": "code",
   "execution_count": 24,
   "metadata": {},
   "outputs": [
    {
     "data": {
      "text/plain": [
       "Text(0.5, 1.0, 'house prices vs house_age')"
      ]
     },
     "execution_count": 24,
     "metadata": {},
     "output_type": "execute_result"
    },
    {
     "data": {
      "image/png": "[encoded data removed]",
      "text/plain": [
       "<Figure size 432x288 with 1 Axes>"
      ]
     },
     "metadata": {
      "needs_background": "light"
     },
     "output_type": "display_data"
    }
   ],
   "source": [
    "house[\"house_age\"] = house.date.str[:4].astype(int) - house.yr_built\n",
    "house.loc[house.house_age<0, [\"house_age\"]] = 0\n",
    "sns.scatterplot(y=house[\"price\"],x = house['house_age'])\n",
    "plt.title(\"house prices vs house_age\")"
   ]
  },
  {
   "cell_type": "code",
   "execution_count": 25,
   "metadata": {},
   "outputs": [
    {
     "data": {
      "text/plain": [
       "Text(0.5, 1.0, 'house prices increase with sqft_living')"
      ]
     },
     "execution_count": 25,
     "metadata": {},
     "output_type": "execute_result"
    },
    {
     "data": {
      "image/png": "[encoded data removed]",
      "text/plain": [
       "<Figure size 432x288 with 1 Axes>"
      ]
     },
     "metadata": {
      "needs_background": "light"
     },
     "output_type": "display_data"
    }
   ],
   "source": [
    "sns.scatterplot(y=house[\"price\"],x = house['sqft_living'])\n",
    "plt.title(\"house prices increase with sqft_living\")"
   ]
  },
  {
   "cell_type": "markdown",
   "metadata": {},
   "source": [
    "- renovation status:\n",
    "    - 1 had been renovated in recent 10 years\n",
    "    - 0 had not been renovated in recent 10 years"
   ]
  },
  {
   "cell_type": "code",
   "execution_count": 26,
   "metadata": {},
   "outputs": [],
   "source": [
    "house[\"renovated\"] = house.apply(lambda row: 1 if int(row.date[:4]) - row.yr_renovated <=10 else 0, axis=1)"
   ]
  },
  {
   "cell_type": "code",
   "execution_count": 27,
   "metadata": {},
   "outputs": [
    {
     "data": {
      "image/png": "[encoded data removed]",
      "text/plain": [
       "<Figure size 432x288 with 1 Axes>"
      ]
     },
     "metadata": {
      "needs_background": "light"
     },
     "output_type": "display_data"
    }
   ],
   "source": [
    "sns.boxplot(y=house[\"price\"],x = house['renovated'])\n",
    "plt.show()"
   ]
  },
  {
   "cell_type": "markdown",
   "metadata": {},
   "source": [
    "- region average pricing level"
   ]
  },
  {
   "cell_type": "code",
   "execution_count": 28,
   "metadata": {},
   "outputs": [
    {
     "name": "stdout",
     "output_type": "stream",
     "text": [
      "There are 70 areas in total\n"
     ]
    }
   ],
   "source": [
    "print(\"There are {} areas in total\".format(house.zipcode.nunique()))"
   ]
  },
  {
   "cell_type": "code",
   "execution_count": 29,
   "metadata": {},
   "outputs": [
    {
     "data": {
      "text/plain": [
       "<AxesSubplot:xlabel='zipcode'>"
      ]
     },
     "execution_count": 29,
     "metadata": {},
     "output_type": "execute_result"
    },
    {
     "data": {
      "image/png": "[encoded data removed]",
      "text/plain": [
       "<Figure size 432x288 with 1 Axes>"
      ]
     },
     "metadata": {
      "needs_background": "light"
     },
     "output_type": "display_data"
    }
   ],
   "source": [
    "house.groupby(\"zipcode\")['price'].mean().sort_values(ascending=False)[:20].plot.bar()"
   ]
  },
  {
   "cell_type": "markdown",
   "metadata": {},
   "source": [
    "- grade"
   ]
  },
  {
   "cell_type": "code",
   "execution_count": 30,
   "metadata": {},
   "outputs": [
    {
     "data": {
      "image/png": "[encoded data removed]",
      "text/plain": [
       "<Figure size 432x288 with 1 Axes>"
      ]
     },
     "metadata": {
      "needs_background": "light"
     },
     "output_type": "display_data"
    }
   ],
   "source": [
    "sns.boxplot(y=house[\"price\"],x = house['grade'])\n",
    "plt.title(\"Price increases with grade \")\n",
    "plt.show()"
   ]
  },
  {
   "cell_type": "markdown",
   "metadata": {},
   "source": [
    "- Bathroom"
   ]
  },
  {
   "cell_type": "code",
   "execution_count": 31,
   "metadata": {},
   "outputs": [
    {
     "data": {
      "image/png": "[encoded data removed]",
      "text/plain": [
       "<Figure size 432x288 with 1 Axes>"
      ]
     },
     "metadata": {
      "needs_background": "light"
     },
     "output_type": "display_data"
    }
   ],
   "source": [
    "sns.boxplot(y=house[\"price\"],x = house['bathrooms'])\n",
    "plt.title(\"Price increases Bathroom\")\n",
    "plt.show()"
   ]
  },
  {
   "cell_type": "code",
   "execution_count": 32,
   "metadata": {},
   "outputs": [],
   "source": [
    "# drop outliers and redundant fields\n",
    "house.drop(house[(house.bedrooms==33)].index, inplace=True) \n",
    "house.reset_index(drop=True, inplace=True)\n",
    "house.drop(columns=[\"date\", \"yr_built\", \"yr_renovated\", \"lat\",\"long\"], inplace=True)"
   ]
  },
  {
   "cell_type": "code",
   "execution_count": 33,
   "metadata": {},
   "outputs": [
    {
     "data": {
      "text/plain": [
       "Index(['price', 'bedrooms', 'bathrooms', 'sqft_living', 'sqft_lot', 'floors',\n",
       "       'waterfront', 'view', 'condition', 'grade', 'sqft_above',\n",
       "       'sqft_basement', 'zipcode', 'sqft_living15', 'sqft_lot15', 'house_age',\n",
       "       'renovated'],\n",
       "      dtype='object')"
      ]
     },
     "execution_count": 33,
     "metadata": {},
     "output_type": "execute_result"
    }
   ],
   "source": [
    "house.columns"
   ]
  },
  {
   "cell_type": "code",
   "execution_count": 34,
   "metadata": {},
   "outputs": [
    {
     "data": {
      "text/html": [
       "<div>\n",
       "<style scoped>\n",
       "    .dataframe tbody tr th:only-of-type {\n",
       "        vertical-align: middle;\n",
       "    }\n",
       "\n",
       "    .dataframe tbody tr th {\n",
       "        vertical-align: top;\n",
       "    }\n",
       "\n",
       "    .dataframe thead th {\n",
       "        text-align: right;\n",
       "    }\n",
       "</style>\n",
       "<table border=\"1\" class=\"dataframe\">\n",
       "  <thead>\n",
       "    <tr style=\"text-align: right;\">\n",
       "      <th></th>\n",
       "      <th>price</th>\n",
       "      <th>bedrooms</th>\n",
       "      <th>bathrooms</th>\n",
       "      <th>sqft_living</th>\n",
       "      <th>sqft_lot</th>\n",
       "      <th>floors</th>\n",
       "      <th>waterfront</th>\n",
       "      <th>view</th>\n",
       "      <th>condition</th>\n",
       "      <th>grade</th>\n",
       "      <th>sqft_above</th>\n",
       "      <th>sqft_basement</th>\n",
       "      <th>zipcode</th>\n",
       "      <th>sqft_living15</th>\n",
       "      <th>sqft_lot15</th>\n",
       "      <th>house_age</th>\n",
       "      <th>renovated</th>\n",
       "    </tr>\n",
       "  </thead>\n",
       "  <tbody>\n",
       "    <tr>\n",
       "      <th>0</th>\n",
       "      <td>221900.0</td>\n",
       "      <td>3</td>\n",
       "      <td>1.00</td>\n",
       "      <td>1180</td>\n",
       "      <td>5650</td>\n",
       "      <td>1.0</td>\n",
       "      <td>0</td>\n",
       "      <td>0</td>\n",
       "      <td>3</td>\n",
       "      <td>7</td>\n",
       "      <td>1180</td>\n",
       "      <td>0</td>\n",
       "      <td>98178</td>\n",
       "      <td>1340</td>\n",
       "      <td>5650</td>\n",
       "      <td>59</td>\n",
       "      <td>0</td>\n",
       "    </tr>\n",
       "    <tr>\n",
       "      <th>1</th>\n",
       "      <td>538000.0</td>\n",
       "      <td>3</td>\n",
       "      <td>2.25</td>\n",
       "      <td>2570</td>\n",
       "      <td>7242</td>\n",
       "      <td>2.0</td>\n",
       "      <td>0</td>\n",
       "      <td>0</td>\n",
       "      <td>3</td>\n",
       "      <td>7</td>\n",
       "      <td>2170</td>\n",
       "      <td>400</td>\n",
       "      <td>98125</td>\n",
       "      <td>1690</td>\n",
       "      <td>7639</td>\n",
       "      <td>63</td>\n",
       "      <td>0</td>\n",
       "    </tr>\n",
       "    <tr>\n",
       "      <th>2</th>\n",
       "      <td>180000.0</td>\n",
       "      <td>2</td>\n",
       "      <td>1.00</td>\n",
       "      <td>770</td>\n",
       "      <td>10000</td>\n",
       "      <td>1.0</td>\n",
       "      <td>0</td>\n",
       "      <td>0</td>\n",
       "      <td>3</td>\n",
       "      <td>6</td>\n",
       "      <td>770</td>\n",
       "      <td>0</td>\n",
       "      <td>98028</td>\n",
       "      <td>2720</td>\n",
       "      <td>8062</td>\n",
       "      <td>82</td>\n",
       "      <td>0</td>\n",
       "    </tr>\n",
       "    <tr>\n",
       "      <th>3</th>\n",
       "      <td>604000.0</td>\n",
       "      <td>4</td>\n",
       "      <td>3.00</td>\n",
       "      <td>1960</td>\n",
       "      <td>5000</td>\n",
       "      <td>1.0</td>\n",
       "      <td>0</td>\n",
       "      <td>0</td>\n",
       "      <td>5</td>\n",
       "      <td>7</td>\n",
       "      <td>1050</td>\n",
       "      <td>910</td>\n",
       "      <td>98136</td>\n",
       "      <td>1360</td>\n",
       "      <td>5000</td>\n",
       "      <td>49</td>\n",
       "      <td>0</td>\n",
       "    </tr>\n",
       "    <tr>\n",
       "      <th>4</th>\n",
       "      <td>510000.0</td>\n",
       "      <td>3</td>\n",
       "      <td>2.00</td>\n",
       "      <td>1680</td>\n",
       "      <td>8080</td>\n",
       "      <td>1.0</td>\n",
       "      <td>0</td>\n",
       "      <td>0</td>\n",
       "      <td>3</td>\n",
       "      <td>8</td>\n",
       "      <td>1680</td>\n",
       "      <td>0</td>\n",
       "      <td>98074</td>\n",
       "      <td>1800</td>\n",
       "      <td>7503</td>\n",
       "      <td>28</td>\n",
       "      <td>0</td>\n",
       "    </tr>\n",
       "  </tbody>\n",
       "</table>\n",
       "</div>"
      ],
      "text/plain": [
       "      price  bedrooms  bathrooms  sqft_living  sqft_lot  floors  waterfront  \\\n",
       "0  221900.0         3       1.00         1180      5650     1.0           0   \n",
       "1  538000.0         3       2.25         2570      7242     2.0           0   \n",
       "2  180000.0         2       1.00          770     10000     1.0           0   \n",
       "3  604000.0         4       3.00         1960      5000     1.0           0   \n",
       "4  510000.0         3       2.00         1680      8080     1.0           0   \n",
       "\n",
       "   view  condition  grade  sqft_above  sqft_basement  zipcode  sqft_living15  \\\n",
       "0     0          3      7        1180              0    98178           1340   \n",
       "1     0          3      7        2170            400    98125           1690   \n",
       "2     0          3      6         770              0    98028           2720   \n",
       "3     0          5      7        1050            910    98136           1360   \n",
       "4     0          3      8        1680              0    98074           1800   \n",
       "\n",
       "   sqft_lot15  house_age  renovated  \n",
       "0        5650         59          0  \n",
       "1        7639         63          0  \n",
       "2        8062         82          0  \n",
       "3        5000         49          0  \n",
       "4        7503         28          0  "
      ]
     },
     "execution_count": 34,
     "metadata": {},
     "output_type": "execute_result"
    }
   ],
   "source": [
    "house.head()"
   ]
  },
  {
   "cell_type": "markdown",
   "metadata": {},
   "source": [
    "#### Building pipeline"
   ]
  },
  {
   "cell_type": "markdown",
   "metadata": {},
   "source": [
    "##### Scaling and Encoding"
   ]
  },
  {
   "cell_type": "code",
   "execution_count": 35,
   "metadata": {},
   "outputs": [],
   "source": [
    "categorical_cols = [\"renovated\", \"waterfront\",\"zipcode\"]\n",
    "numeric_cols = [i for i in house.columns if i not in categorical_cols and i != \"price\"]\n",
    "# one hot encoder and scaler\n",
    "transformer = ColumnTransformer([\n",
    "    ('one-hot-encoder', OneHotEncoder(handle_unknown=\"ignore\"), categorical_cols),\n",
    "    ('standard_scaler', StandardScaler(), numeric_cols)])"
   ]
  },
  {
   "cell_type": "markdown",
   "metadata": {},
   "source": [
    "##### Split data"
   ]
  },
  {
   "cell_type": "code",
   "execution_count": 36,
   "metadata": {},
   "outputs": [],
   "source": [
    "y = house[\"price\"]\n",
    "X = house.drop([\"price\"],axis=1)\n",
    "X_train, X_test, y_train, y_test = train_test_split(X, y, test_size=0.3, random_state=0)"
   ]
  },
  {
   "cell_type": "code",
   "execution_count": 37,
   "metadata": {},
   "outputs": [],
   "source": [
    "# Display Pipeline\n",
    "from sklearn import set_config\n",
    "set_config(display=\"diagram\")"
   ]
  },
  {
   "cell_type": "markdown",
   "metadata": {},
   "source": [
    "### Model Selection with 5-fold cross validation"
   ]
  },
  {
   "cell_type": "markdown",
   "metadata": {},
   "source": [
    "- Ridge regression"
   ]
  },
  {
   "cell_type": "code",
   "execution_count": 39,
   "metadata": {},
   "outputs": [
    {
     "name": "stdout",
     "output_type": "stream",
     "text": [
      "The socre of Ridge regression is: 80.69%\n"
     ]
    }
   ],
   "source": [
    "rg = Pipeline(\n",
    "    steps=[(\"transformer\", transformer),\n",
    "    (\"Ridge regression\", Ridge())])\n",
    "rg.fit(X_train, y_train)\n",
    "s1 = cross_val_score(estimator = rg,\n",
    "                               X = X_train, y = y_train, cv = 5)\n",
    "print(\"The socre of Ridge regression is: {}%\".format(round(s1.mean()*100,2)))"
   ]
  },
  {
   "cell_type": "markdown",
   "metadata": {},
   "source": [
    "- Random forest regression"
   ]
  },
  {
   "cell_type": "code",
   "execution_count": 40,
   "metadata": {},
   "outputs": [
    {
     "name": "stdout",
     "output_type": "stream",
     "text": [
      "The socre of Random forest regression is: 81.79%\n"
     ]
    }
   ],
   "source": [
    "rf = Pipeline(\n",
    "        steps=[(\"transformer\", transformer),\n",
    "        (\"Random forest regression\", RandomForestRegressor())])  \n",
    "rf.fit(X_train, y_train)\n",
    "s2 = cross_val_score(estimator = rf,\n",
    "                               X = X_train, y = y_train, cv = 5)\n",
    "print(\"The socre of Random forest regression is: {}%\".format(round(s2.mean()*100,2)))"
   ]
  },
  {
   "cell_type": "markdown",
   "metadata": {},
   "source": [
    "#### Train XGBoost Regression Model"
   ]
  },
  {
   "cell_type": "code",
   "execution_count": 47,
   "metadata": {},
   "outputs": [
    {
     "name": "stdout",
     "output_type": "stream",
     "text": [
      "The socre of XGBoost Regression is: 84.44%\n"
     ]
    }
   ],
   "source": [
    "xgb = Pipeline(\n",
    "        steps=[(\"transformer\", transformer),\n",
    "        (\"xgb\", XGBRegressor())])\n",
    "xgb.fit(X_train, y_train)\n",
    "s = cross_val_score(estimator = xgb, X = X_train, y = y_train, cv = 5)\n",
    "print(\"The socre of XGBoost Regression is: {}%\".format(round(s.mean()*100,2)))        "
   ]
  },
  {
   "cell_type": "markdown",
   "metadata": {},
   "source": [
    "#### Hyper-parameter tuning on XGBoost model"
   ]
  },
  {
   "cell_type": "code",
   "execution_count": 43,
   "metadata": {},
   "outputs": [
    {
     "data": {
      "text/plain": [
       "dict_keys(['memory', 'steps', 'verbose', 'transformer', 'xgb', 'transformer__n_jobs', 'transformer__remainder', 'transformer__sparse_threshold', 'transformer__transformer_weights', 'transformer__transformers', 'transformer__verbose', 'transformer__verbose_feature_names_out', 'transformer__one-hot-encoder', 'transformer__standard_scaler', 'transformer__one-hot-encoder__categories', 'transformer__one-hot-encoder__drop', 'transformer__one-hot-encoder__dtype', 'transformer__one-hot-encoder__handle_unknown', 'transformer__one-hot-encoder__sparse', 'transformer__standard_scaler__copy', 'transformer__standard_scaler__with_mean', 'transformer__standard_scaler__with_std', 'xgb__objective', 'xgb__base_score', 'xgb__booster', 'xgb__colsample_bylevel', 'xgb__colsample_bynode', 'xgb__colsample_bytree', 'xgb__enable_categorical', 'xgb__gamma', 'xgb__gpu_id', 'xgb__importance_type', 'xgb__interaction_constraints', 'xgb__learning_rate', 'xgb__max_delta_step', 'xgb__max_depth', 'xgb__min_child_weight', 'xgb__missing', 'xgb__monotone_constraints', 'xgb__n_estimators', 'xgb__n_jobs', 'xgb__num_parallel_tree', 'xgb__predictor', 'xgb__random_state', 'xgb__reg_alpha', 'xgb__reg_lambda', 'xgb__scale_pos_weight', 'xgb__subsample', 'xgb__tree_method', 'xgb__validate_parameters', 'xgb__verbosity'])"
      ]
     },
     "execution_count": 43,
     "metadata": {},
     "output_type": "execute_result"
    }
   ],
   "source": [
    "xgb.get_params().keys()"
   ]
  },
  {
   "cell_type": "code",
   "execution_count": 44,
   "metadata": {},
   "outputs": [
    {
     "name": "stdout",
     "output_type": "stream",
     "text": [
      "Best Score: 85.8%\n",
      "Best Hyperparameters: {'xgb__gamma': 0, 'xgb__learning_rate': 0.3, 'xgb__max_depth': 5, 'xgb__min_child_weight': 3, 'xgb__reg_lambda': 2}\n"
     ]
    }
   ],
   "source": [
    "# Gridsearch \n",
    "space = dict()\n",
    "space['xgb__learning_rate'] = [0.01,0.1,0.2,0.3] # Makes the model more robust by shrinking the weights on each step\n",
    "space['xgb__min_child_weight'] = [1,3,7] # Defines the minimum sum of weights of all observations Used to control over-fitting\n",
    "space['xgb__max_depth'] = [5,6,8] # Used to control over-fitting\n",
    "space['xgb__reg_lambda'] = [1,2] # handle the regularization, is explored to reduce overfitting.\n",
    "space['xgb__gamma'] = [0,0.2] # Makes the algorithm conservative\n",
    "search = GridSearchCV(xgb, space, scoring='r2', cv=5)\n",
    "result = search.fit(X_train, y_train)\n",
    "print('Best Score: {}%'.format(round(result.best_score_*100,2)))\n",
    "print('Best Hyperparameters: %s' % result.best_params_)"
   ]
  },
  {
   "cell_type": "markdown",
   "metadata": {},
   "source": [
    "### Train model with the best hyperparameters"
   ]
  },
  {
   "cell_type": "code",
   "execution_count": 48,
   "metadata": {},
   "outputs": [
    {
     "data": {
      "text/html": [
       "<style>#sk-c6e99108-43b9-48d9-8f0d-2e8182708e5e {color: black;background-color: white;}#sk-c6e99108-43b9-48d9-8f0d-2e8182708e5e pre{padding: 0;}#sk-c6e99108-43b9-48d9-8f0d-2e8182708e5e div.sk-toggleable {background-color: white;}#sk-c6e99108-43b9-48d9-8f0d-2e8182708e5e label.sk-toggleable__label {cursor: pointer;display: block;width: 100%;margin-bottom: 0;padding: 0.3em;box-sizing: border-box;text-align: center;}#sk-c6e99108-43b9-48d9-8f0d-2e8182708e5e label.sk-toggleable__label-arrow:before {content: \"▸\";float: left;margin-right: 0.25em;color: #696969;}#sk-c6e99108-43b9-48d9-8f0d-2e8182708e5e label.sk-toggleable__label-arrow:hover:before {color: black;}#sk-c6e99108-43b9-48d9-8f0d-2e8182708e5e div.sk-estimator:hover label.sk-toggleable__label-arrow:before {color: black;}#sk-c6e99108-43b9-48d9-8f0d-2e8182708e5e div.sk-toggleable__content {max-height: 0;max-width: 0;overflow: hidden;text-align: left;background-color: #f0f8ff;}#sk-c6e99108-43b9-48d9-8f0d-2e8182708e5e div.sk-toggleable__content pre {margin: 0.2em;color: black;border-radius: 0.25em;background-color: #f0f8ff;}#sk-c6e99108-43b9-48d9-8f0d-2e8182708e5e input.sk-toggleable__control:checked~div.sk-toggleable__content {max-height: 200px;max-width: 100%;overflow: auto;}#sk-c6e99108-43b9-48d9-8f0d-2e8182708e5e input.sk-toggleable__control:checked~label.sk-toggleable__label-arrow:before {content: \"▾\";}#sk-c6e99108-43b9-48d9-8f0d-2e8182708e5e div.sk-estimator input.sk-toggleable__control:checked~label.sk-toggleable__label {background-color: #d4ebff;}#sk-c6e99108-43b9-48d9-8f0d-2e8182708e5e div.sk-label input.sk-toggleable__control:checked~label.sk-toggleable__label {background-color: #d4ebff;}#sk-c6e99108-43b9-48d9-8f0d-2e8182708e5e input.sk-hidden--visually {border: 0;clip: rect(1px 1px 1px 1px);clip: rect(1px, 1px, 1px, 1px);height: 1px;margin: -1px;overflow: hidden;padding: 0;position: absolute;width: 1px;}#sk-c6e99108-43b9-48d9-8f0d-2e8182708e5e div.sk-estimator {font-family: monospace;background-color: #f0f8ff;border: 1px dotted black;border-radius: 0.25em;box-sizing: border-box;margin-bottom: 0.5em;}#sk-c6e99108-43b9-48d9-8f0d-2e8182708e5e div.sk-estimator:hover {background-color: #d4ebff;}#sk-c6e99108-43b9-48d9-8f0d-2e8182708e5e div.sk-parallel-item::after {content: \"\";width: 100%;border-bottom: 1px solid gray;flex-grow: 1;}#sk-c6e99108-43b9-48d9-8f0d-2e8182708e5e div.sk-label:hover label.sk-toggleable__label {background-color: #d4ebff;}#sk-c6e99108-43b9-48d9-8f0d-2e8182708e5e div.sk-serial::before {content: \"\";position: absolute;border-left: 1px solid gray;box-sizing: border-box;top: 2em;bottom: 0;left: 50%;}#sk-c6e99108-43b9-48d9-8f0d-2e8182708e5e div.sk-serial {display: flex;flex-direction: column;align-items: center;background-color: white;padding-right: 0.2em;padding-left: 0.2em;}#sk-c6e99108-43b9-48d9-8f0d-2e8182708e5e div.sk-item {z-index: 1;}#sk-c6e99108-43b9-48d9-8f0d-2e8182708e5e div.sk-parallel {display: flex;align-items: stretch;justify-content: center;background-color: white;}#sk-c6e99108-43b9-48d9-8f0d-2e8182708e5e div.sk-parallel::before {content: \"\";position: absolute;border-left: 1px solid gray;box-sizing: border-box;top: 2em;bottom: 0;left: 50%;}#sk-c6e99108-43b9-48d9-8f0d-2e8182708e5e div.sk-parallel-item {display: flex;flex-direction: column;position: relative;background-color: white;}#sk-c6e99108-43b9-48d9-8f0d-2e8182708e5e div.sk-parallel-item:first-child::after {align-self: flex-end;width: 50%;}#sk-c6e99108-43b9-48d9-8f0d-2e8182708e5e div.sk-parallel-item:last-child::after {align-self: flex-start;width: 50%;}#sk-c6e99108-43b9-48d9-8f0d-2e8182708e5e div.sk-parallel-item:only-child::after {width: 0;}#sk-c6e99108-43b9-48d9-8f0d-2e8182708e5e div.sk-dashed-wrapped {border: 1px dashed gray;margin: 0 0.4em 0.5em 0.4em;box-sizing: border-box;padding-bottom: 0.4em;background-color: white;position: relative;}#sk-c6e99108-43b9-48d9-8f0d-2e8182708e5e div.sk-label label {font-family: monospace;font-weight: bold;background-color: white;display: inline-block;line-height: 1.2em;}#sk-c6e99108-43b9-48d9-8f0d-2e8182708e5e div.sk-label-container {position: relative;z-index: 2;text-align: center;}#sk-c6e99108-43b9-48d9-8f0d-2e8182708e5e div.sk-container {/* jupyter's `normalize.less` sets `[hidden] { display: none; }` but bootstrap.min.css set `[hidden] { display: none !important; }` so we also need the `!important` here to be able to override the default hidden behavior on the sphinx rendered scikit-learn.org. See: https://github.com/scikit-learn/scikit-learn/issues/21755 */display: inline-block !important;position: relative;}#sk-c6e99108-43b9-48d9-8f0d-2e8182708e5e div.sk-text-repr-fallback {display: none;}</style><div id=\"sk-c6e99108-43b9-48d9-8f0d-2e8182708e5e\" class=\"sk-top-container\"><div class=\"sk-text-repr-fallback\"><pre>Pipeline(steps=[(&#x27;transformer&#x27;,\n",
       "                 ColumnTransformer(transformers=[(&#x27;one-hot-encoder&#x27;,\n",
       "                                                  OneHotEncoder(handle_unknown=&#x27;ignore&#x27;),\n",
       "                                                  [&#x27;renovated&#x27;, &#x27;waterfront&#x27;,\n",
       "                                                   &#x27;zipcode&#x27;]),\n",
       "                                                 (&#x27;standard_scaler&#x27;,\n",
       "                                                  StandardScaler(),\n",
       "                                                  [&#x27;bedrooms&#x27;, &#x27;bathrooms&#x27;,\n",
       "                                                   &#x27;sqft_living&#x27;, &#x27;sqft_lot&#x27;,\n",
       "                                                   &#x27;floors&#x27;, &#x27;view&#x27;,\n",
       "                                                   &#x27;condition&#x27;, &#x27;grade&#x27;,\n",
       "                                                   &#x27;sqft_above&#x27;,\n",
       "                                                   &#x27;sqft_basement&#x27;,\n",
       "                                                   &#x27;sqft_living15&#x27;,\n",
       "                                                   &#x27;sqft_lot15&#x27;,\n",
       "                                                   &#x27;house_age&#x27;]...\n",
       "                              gamma=0, gpu_id=-1, importance_type=None,\n",
       "                              interaction_constraints=&#x27;&#x27;, learning_rate=0.3,\n",
       "                              max_delta_step=0, max_depth=5, min_child_weight=3,\n",
       "                              missing=nan, monotone_constraints=&#x27;()&#x27;,\n",
       "                              n_estimators=100, n_jobs=8, num_parallel_tree=1,\n",
       "                              predictor=&#x27;auto&#x27;, random_state=0, reg_alpha=0,\n",
       "                              reg_lambda=2, scale_pos_weight=1, subsample=1,\n",
       "                              tree_method=&#x27;exact&#x27;, validate_parameters=1,\n",
       "                              verbosity=None))])</pre><b>Please rerun this cell to show the HTML repr or trust the notebook.</b></div><div class=\"sk-container\" hidden><div class=\"sk-item sk-dashed-wrapped\"><div class=\"sk-label-container\"><div class=\"sk-label sk-toggleable\"><input class=\"sk-toggleable__control sk-hidden--visually\" id=\"1045c0bf-deed-4632-ad30-d560bc045464\" type=\"checkbox\" ><label for=\"1045c0bf-deed-4632-ad30-d560bc045464\" class=\"sk-toggleable__label sk-toggleable__label-arrow\">Pipeline</label><div class=\"sk-toggleable__content\"><pre>Pipeline(steps=[(&#x27;transformer&#x27;,\n",
       "                 ColumnTransformer(transformers=[(&#x27;one-hot-encoder&#x27;,\n",
       "                                                  OneHotEncoder(handle_unknown=&#x27;ignore&#x27;),\n",
       "                                                  [&#x27;renovated&#x27;, &#x27;waterfront&#x27;,\n",
       "                                                   &#x27;zipcode&#x27;]),\n",
       "                                                 (&#x27;standard_scaler&#x27;,\n",
       "                                                  StandardScaler(),\n",
       "                                                  [&#x27;bedrooms&#x27;, &#x27;bathrooms&#x27;,\n",
       "                                                   &#x27;sqft_living&#x27;, &#x27;sqft_lot&#x27;,\n",
       "                                                   &#x27;floors&#x27;, &#x27;view&#x27;,\n",
       "                                                   &#x27;condition&#x27;, &#x27;grade&#x27;,\n",
       "                                                   &#x27;sqft_above&#x27;,\n",
       "                                                   &#x27;sqft_basement&#x27;,\n",
       "                                                   &#x27;sqft_living15&#x27;,\n",
       "                                                   &#x27;sqft_lot15&#x27;,\n",
       "                                                   &#x27;house_age&#x27;]...\n",
       "                              gamma=0, gpu_id=-1, importance_type=None,\n",
       "                              interaction_constraints=&#x27;&#x27;, learning_rate=0.3,\n",
       "                              max_delta_step=0, max_depth=5, min_child_weight=3,\n",
       "                              missing=nan, monotone_constraints=&#x27;()&#x27;,\n",
       "                              n_estimators=100, n_jobs=8, num_parallel_tree=1,\n",
       "                              predictor=&#x27;auto&#x27;, random_state=0, reg_alpha=0,\n",
       "                              reg_lambda=2, scale_pos_weight=1, subsample=1,\n",
       "                              tree_method=&#x27;exact&#x27;, validate_parameters=1,\n",
       "                              verbosity=None))])</pre></div></div></div><div class=\"sk-serial\"><div class=\"sk-item sk-dashed-wrapped\"><div class=\"sk-label-container\"><div class=\"sk-label sk-toggleable\"><input class=\"sk-toggleable__control sk-hidden--visually\" id=\"c3767d0c-05ba-47a7-95f6-350b7acae3a8\" type=\"checkbox\" ><label for=\"c3767d0c-05ba-47a7-95f6-350b7acae3a8\" class=\"sk-toggleable__label sk-toggleable__label-arrow\">transformer: ColumnTransformer</label><div class=\"sk-toggleable__content\"><pre>ColumnTransformer(transformers=[(&#x27;one-hot-encoder&#x27;,\n",
       "                                 OneHotEncoder(handle_unknown=&#x27;ignore&#x27;),\n",
       "                                 [&#x27;renovated&#x27;, &#x27;waterfront&#x27;, &#x27;zipcode&#x27;]),\n",
       "                                (&#x27;standard_scaler&#x27;, StandardScaler(),\n",
       "                                 [&#x27;bedrooms&#x27;, &#x27;bathrooms&#x27;, &#x27;sqft_living&#x27;,\n",
       "                                  &#x27;sqft_lot&#x27;, &#x27;floors&#x27;, &#x27;view&#x27;, &#x27;condition&#x27;,\n",
       "                                  &#x27;grade&#x27;, &#x27;sqft_above&#x27;, &#x27;sqft_basement&#x27;,\n",
       "                                  &#x27;sqft_living15&#x27;, &#x27;sqft_lot15&#x27;,\n",
       "                                  &#x27;house_age&#x27;])])</pre></div></div></div><div class=\"sk-parallel\"><div class=\"sk-parallel-item\"><div class=\"sk-item\"><div class=\"sk-label-container\"><div class=\"sk-label sk-toggleable\"><input class=\"sk-toggleable__control sk-hidden--visually\" id=\"f689b4da-d1c6-4f76-89ea-6a6a0af8b159\" type=\"checkbox\" ><label for=\"f689b4da-d1c6-4f76-89ea-6a6a0af8b159\" class=\"sk-toggleable__label sk-toggleable__label-arrow\">one-hot-encoder</label><div class=\"sk-toggleable__content\"><pre>[&#x27;renovated&#x27;, &#x27;waterfront&#x27;, &#x27;zipcode&#x27;]</pre></div></div></div><div class=\"sk-serial\"><div class=\"sk-item\"><div class=\"sk-estimator sk-toggleable\"><input class=\"sk-toggleable__control sk-hidden--visually\" id=\"074f208b-cb77-46b9-9fd3-b530bc6e6b18\" type=\"checkbox\" ><label for=\"074f208b-cb77-46b9-9fd3-b530bc6e6b18\" class=\"sk-toggleable__label sk-toggleable__label-arrow\">OneHotEncoder</label><div class=\"sk-toggleable__content\"><pre>OneHotEncoder(handle_unknown=&#x27;ignore&#x27;)</pre></div></div></div></div></div></div><div class=\"sk-parallel-item\"><div class=\"sk-item\"><div class=\"sk-label-container\"><div class=\"sk-label sk-toggleable\"><input class=\"sk-toggleable__control sk-hidden--visually\" id=\"d98aa5fb-6c11-474b-b657-ec65a8885e08\" type=\"checkbox\" ><label for=\"d98aa5fb-6c11-474b-b657-ec65a8885e08\" class=\"sk-toggleable__label sk-toggleable__label-arrow\">standard_scaler</label><div class=\"sk-toggleable__content\"><pre>[&#x27;bedrooms&#x27;, &#x27;bathrooms&#x27;, &#x27;sqft_living&#x27;, &#x27;sqft_lot&#x27;, &#x27;floors&#x27;, &#x27;view&#x27;, &#x27;condition&#x27;, &#x27;grade&#x27;, &#x27;sqft_above&#x27;, &#x27;sqft_basement&#x27;, &#x27;sqft_living15&#x27;, &#x27;sqft_lot15&#x27;, &#x27;house_age&#x27;]</pre></div></div></div><div class=\"sk-serial\"><div class=\"sk-item\"><div class=\"sk-estimator sk-toggleable\"><input class=\"sk-toggleable__control sk-hidden--visually\" id=\"b4e7238f-b451-450a-a385-9e8c83e8554c\" type=\"checkbox\" ><label for=\"b4e7238f-b451-450a-a385-9e8c83e8554c\" class=\"sk-toggleable__label sk-toggleable__label-arrow\">StandardScaler</label><div class=\"sk-toggleable__content\"><pre>StandardScaler()</pre></div></div></div></div></div></div></div></div><div class=\"sk-item\"><div class=\"sk-estimator sk-toggleable\"><input class=\"sk-toggleable__control sk-hidden--visually\" id=\"29a960f3-927a-4594-8284-0034c1f3dcaa\" type=\"checkbox\" ><label for=\"29a960f3-927a-4594-8284-0034c1f3dcaa\" class=\"sk-toggleable__label sk-toggleable__label-arrow\">XGBRegressor</label><div class=\"sk-toggleable__content\"><pre>XGBRegressor(base_score=0.5, booster=&#x27;gbtree&#x27;, colsample_bylevel=1,\n",
       "             colsample_bynode=1, colsample_bytree=1, enable_categorical=False,\n",
       "             gamma=0, gpu_id=-1, importance_type=None,\n",
       "             interaction_constraints=&#x27;&#x27;, learning_rate=0.3, max_delta_step=0,\n",
       "             max_depth=5, min_child_weight=3, missing=nan,\n",
       "             monotone_constraints=&#x27;()&#x27;, n_estimators=100, n_jobs=8,\n",
       "             num_parallel_tree=1, predictor=&#x27;auto&#x27;, random_state=0, reg_alpha=0,\n",
       "             reg_lambda=2, scale_pos_weight=1, subsample=1, tree_method=&#x27;exact&#x27;,\n",
       "             validate_parameters=1, verbosity=None)</pre></div></div></div></div></div></div></div>"
      ],
      "text/plain": [
       "Pipeline(steps=[('transformer',\n",
       "                 ColumnTransformer(transformers=[('one-hot-encoder',\n",
       "                                                  OneHotEncoder(handle_unknown='ignore'),\n",
       "                                                  ['renovated', 'waterfront',\n",
       "                                                   'zipcode']),\n",
       "                                                 ('standard_scaler',\n",
       "                                                  StandardScaler(),\n",
       "                                                  ['bedrooms', 'bathrooms',\n",
       "                                                   'sqft_living', 'sqft_lot',\n",
       "                                                   'floors', 'view',\n",
       "                                                   'condition', 'grade',\n",
       "                                                   'sqft_above',\n",
       "                                                   'sqft_basement',\n",
       "                                                   'sqft_living15',\n",
       "                                                   'sqft_lot15',\n",
       "                                                   'house_age']...\n",
       "                              gamma=0, gpu_id=-1, importance_type=None,\n",
       "                              interaction_constraints='', learning_rate=0.3,\n",
       "                              max_delta_step=0, max_depth=5, min_child_weight=3,\n",
       "                              missing=nan, monotone_constraints='()',\n",
       "                              n_estimators=100, n_jobs=8, num_parallel_tree=1,\n",
       "                              predictor='auto', random_state=0, reg_alpha=0,\n",
       "                              reg_lambda=2, scale_pos_weight=1, subsample=1,\n",
       "                              tree_method='exact', validate_parameters=1,\n",
       "                              verbosity=None))])"
      ]
     },
     "execution_count": 48,
     "metadata": {},
     "output_type": "execute_result"
    }
   ],
   "source": [
    "xgb = Pipeline(\n",
    "        steps=[(\"transformer\", transformer),\n",
    "        (\"xgb\", XGBRegressor(gamma=0, learning_rate= 0.3, max_depth=5, min_child_weight=3, reg_lambda = 2))])\n",
    "xgb.fit(X_train, y_train)"
   ]
  },
  {
   "cell_type": "markdown",
   "metadata": {},
   "source": [
    "### Model  Evaluation on Test Data"
   ]
  },
  {
   "cell_type": "code",
   "execution_count": 49,
   "metadata": {},
   "outputs": [],
   "source": [
    "y_pred = xgb.predict(X_test)"
   ]
  },
  {
   "cell_type": "code",
   "execution_count": 50,
   "metadata": {},
   "outputs": [
    {
     "data": {
      "image/png": "[encoded data removed]",
      "text/plain": [
       "<Figure size 504x360 with 1 Axes>"
      ]
     },
     "metadata": {
      "needs_background": "light"
     },
     "output_type": "display_data"
    }
   ],
   "source": [
    "fig, ax1 = plt.subplots(figsize=(7,5))\n",
    "plt.scatter(y_pred,y_test,color='black')\n",
    "plt.plot(y_test,y_test,color='red')\n",
    "plt.title('XGboost Regression Result')\n",
    "plt.xlabel('Predicted Values')\n",
    "plt.ylabel('Actual Values')\n",
    "plt.show()"
   ]
  },
  {
   "cell_type": "markdown",
   "metadata": {},
   "source": [
    "#### Finding: the model doesn't perform good when price is around 3,000,000"
   ]
  },
  {
   "cell_type": "code",
   "execution_count": 51,
   "metadata": {},
   "outputs": [
    {
     "name": "stdout",
     "output_type": "stream",
     "text": [
      "mean_RMSE :  133716.02\n",
      "mean_MAE :  76550.22\n",
      "mean_R2 :  86.71 %\n"
     ]
    }
   ],
   "source": [
    "#Cross-Validation\n",
    "scoring = {'MSE' : make_scorer(mean_squared_error),\n",
    "          'MAE' : make_scorer(mean_absolute_error),\n",
    "           'R2' : make_scorer(r2_score)\n",
    "          }\n",
    "kfold = KFold(n_splits=5, random_state=42, shuffle = True)\n",
    "scores = cross_validate(estimator=xgb, X=X,\n",
    "                                          y=y,\n",
    "                                          cv=kfold,\n",
    "                                          scoring=scoring)\n",
    "rmse = np.sqrt(scores['test_MSE'])\n",
    "mae = (scores['test_MAE'])\n",
    "r2 = (scores['test_R2'])\n",
    "print('mean_RMSE : ', \"%.2f\" % (rmse.mean()))\n",
    "print('mean_MAE : ', \"%.2f\" % (mae.mean()))\n",
    "print('mean_R2 : ', \"%.2f\" % (r2.mean()*100),\"%\")"
   ]
  },
  {
   "cell_type": "markdown",
   "metadata": {},
   "source": [
    "### Model Interpretation "
   ]
  },
  {
   "cell_type": "markdown",
   "metadata": {},
   "source": [
    "#### Error Analysis: Check the highest prices"
   ]
  },
  {
   "cell_type": "code",
   "execution_count": 52,
   "metadata": {},
   "outputs": [
    {
     "data": {
      "text/html": [
       "<div>\n",
       "<style scoped>\n",
       "    .dataframe tbody tr th:only-of-type {\n",
       "        vertical-align: middle;\n",
       "    }\n",
       "\n",
       "    .dataframe tbody tr th {\n",
       "        vertical-align: top;\n",
       "    }\n",
       "\n",
       "    .dataframe thead th {\n",
       "        text-align: right;\n",
       "    }\n",
       "</style>\n",
       "<table border=\"1\" class=\"dataframe\">\n",
       "  <thead>\n",
       "    <tr style=\"text-align: right;\">\n",
       "      <th></th>\n",
       "      <th>bedrooms</th>\n",
       "      <th>bathrooms</th>\n",
       "      <th>sqft_living</th>\n",
       "      <th>sqft_lot</th>\n",
       "      <th>floors</th>\n",
       "      <th>waterfront</th>\n",
       "      <th>view</th>\n",
       "      <th>condition</th>\n",
       "      <th>grade</th>\n",
       "      <th>sqft_above</th>\n",
       "      <th>sqft_basement</th>\n",
       "      <th>zipcode</th>\n",
       "      <th>sqft_living15</th>\n",
       "      <th>sqft_lot15</th>\n",
       "      <th>house_age</th>\n",
       "      <th>renovated</th>\n",
       "      <th>y_test</th>\n",
       "      <th>y_pred</th>\n",
       "    </tr>\n",
       "  </thead>\n",
       "  <tbody>\n",
       "    <tr>\n",
       "      <th>4411</th>\n",
       "      <td>5</td>\n",
       "      <td>5.75</td>\n",
       "      <td>9200</td>\n",
       "      <td>35069</td>\n",
       "      <td>2.0</td>\n",
       "      <td>0</td>\n",
       "      <td>0</td>\n",
       "      <td>3</td>\n",
       "      <td>13</td>\n",
       "      <td>6200</td>\n",
       "      <td>3000</td>\n",
       "      <td>98039</td>\n",
       "      <td>3560</td>\n",
       "      <td>24345</td>\n",
       "      <td>13</td>\n",
       "      <td>0</td>\n",
       "      <td>5570000.0</td>\n",
       "      <td>4495906.0</td>\n",
       "    </tr>\n",
       "    <tr>\n",
       "      <th>7252</th>\n",
       "      <td>6</td>\n",
       "      <td>8.00</td>\n",
       "      <td>12050</td>\n",
       "      <td>27600</td>\n",
       "      <td>2.5</td>\n",
       "      <td>0</td>\n",
       "      <td>3</td>\n",
       "      <td>4</td>\n",
       "      <td>13</td>\n",
       "      <td>8570</td>\n",
       "      <td>3480</td>\n",
       "      <td>98102</td>\n",
       "      <td>3940</td>\n",
       "      <td>8800</td>\n",
       "      <td>104</td>\n",
       "      <td>0</td>\n",
       "      <td>7700000.0</td>\n",
       "      <td>3408006.0</td>\n",
       "    </tr>\n",
       "    <tr>\n",
       "      <th>3914</th>\n",
       "      <td>5</td>\n",
       "      <td>4.50</td>\n",
       "      <td>10040</td>\n",
       "      <td>37325</td>\n",
       "      <td>2.0</td>\n",
       "      <td>1</td>\n",
       "      <td>2</td>\n",
       "      <td>3</td>\n",
       "      <td>11</td>\n",
       "      <td>7680</td>\n",
       "      <td>2360</td>\n",
       "      <td>98004</td>\n",
       "      <td>3930</td>\n",
       "      <td>25449</td>\n",
       "      <td>74</td>\n",
       "      <td>0</td>\n",
       "      <td>7062500.0</td>\n",
       "      <td>3352108.0</td>\n",
       "    </tr>\n",
       "  </tbody>\n",
       "</table>\n",
       "</div>"
      ],
      "text/plain": [
       "      bedrooms  bathrooms  sqft_living  sqft_lot  floors  waterfront  view  \\\n",
       "4411         5       5.75         9200     35069     2.0           0     0   \n",
       "7252         6       8.00        12050     27600     2.5           0     3   \n",
       "3914         5       4.50        10040     37325     2.0           1     2   \n",
       "\n",
       "      condition  grade  sqft_above  sqft_basement  zipcode  sqft_living15  \\\n",
       "4411          3     13        6200           3000    98039           3560   \n",
       "7252          4     13        8570           3480    98102           3940   \n",
       "3914          3     11        7680           2360    98004           3930   \n",
       "\n",
       "      sqft_lot15  house_age  renovated     y_test     y_pred  \n",
       "4411       24345         13          0  5570000.0  4495906.0  \n",
       "7252        8800        104          0  7700000.0  3408006.0  \n",
       "3914       25449         74          0  7062500.0  3352108.0  "
      ]
     },
     "execution_count": 52,
     "metadata": {},
     "output_type": "execute_result"
    }
   ],
   "source": [
    "df = X_test\n",
    "df[\"y_test\"] = y_test\n",
    "df[\"y_pred\"] = np.round(y_pred,0)\n",
    "df[(df.y_pred>=3000000) & (df.y_test >= 5000000)]"
   ]
  },
  {
   "cell_type": "code",
   "execution_count": 54,
   "metadata": {},
   "outputs": [
    {
     "data": {
      "text/html": [
       "<div>\n",
       "<style scoped>\n",
       "    .dataframe tbody tr th:only-of-type {\n",
       "        vertical-align: middle;\n",
       "    }\n",
       "\n",
       "    .dataframe tbody tr th {\n",
       "        vertical-align: top;\n",
       "    }\n",
       "\n",
       "    .dataframe thead th {\n",
       "        text-align: right;\n",
       "    }\n",
       "</style>\n",
       "<table border=\"1\" class=\"dataframe\">\n",
       "  <thead>\n",
       "    <tr style=\"text-align: right;\">\n",
       "      <th></th>\n",
       "      <th>bedrooms</th>\n",
       "      <th>bathrooms</th>\n",
       "      <th>sqft_living</th>\n",
       "      <th>sqft_lot</th>\n",
       "      <th>floors</th>\n",
       "      <th>waterfront</th>\n",
       "      <th>view</th>\n",
       "      <th>condition</th>\n",
       "      <th>grade</th>\n",
       "      <th>sqft_above</th>\n",
       "      <th>sqft_basement</th>\n",
       "      <th>zipcode</th>\n",
       "      <th>sqft_living15</th>\n",
       "      <th>sqft_lot15</th>\n",
       "      <th>house_age</th>\n",
       "      <th>renovated</th>\n",
       "      <th>y_test</th>\n",
       "      <th>y_pred</th>\n",
       "    </tr>\n",
       "  </thead>\n",
       "  <tbody>\n",
       "    <tr>\n",
       "      <th>18476</th>\n",
       "      <td>8</td>\n",
       "      <td>4.00</td>\n",
       "      <td>7710</td>\n",
       "      <td>11750</td>\n",
       "      <td>3.5</td>\n",
       "      <td>0</td>\n",
       "      <td>0</td>\n",
       "      <td>5</td>\n",
       "      <td>12</td>\n",
       "      <td>6090</td>\n",
       "      <td>1620</td>\n",
       "      <td>98112</td>\n",
       "      <td>4210</td>\n",
       "      <td>8325</td>\n",
       "      <td>110</td>\n",
       "      <td>0</td>\n",
       "      <td>3300000.0</td>\n",
       "      <td>3908672.0</td>\n",
       "    </tr>\n",
       "    <tr>\n",
       "      <th>7989</th>\n",
       "      <td>3</td>\n",
       "      <td>4.50</td>\n",
       "      <td>5230</td>\n",
       "      <td>17826</td>\n",
       "      <td>2.0</td>\n",
       "      <td>1</td>\n",
       "      <td>4</td>\n",
       "      <td>3</td>\n",
       "      <td>10</td>\n",
       "      <td>3740</td>\n",
       "      <td>1490</td>\n",
       "      <td>98040</td>\n",
       "      <td>3670</td>\n",
       "      <td>17826</td>\n",
       "      <td>9</td>\n",
       "      <td>0</td>\n",
       "      <td>3400000.0</td>\n",
       "      <td>3386186.0</td>\n",
       "    </tr>\n",
       "    <tr>\n",
       "      <th>5880</th>\n",
       "      <td>5</td>\n",
       "      <td>5.00</td>\n",
       "      <td>5450</td>\n",
       "      <td>20412</td>\n",
       "      <td>2.0</td>\n",
       "      <td>0</td>\n",
       "      <td>0</td>\n",
       "      <td>3</td>\n",
       "      <td>11</td>\n",
       "      <td>5450</td>\n",
       "      <td>0</td>\n",
       "      <td>98039</td>\n",
       "      <td>3160</td>\n",
       "      <td>17825</td>\n",
       "      <td>0</td>\n",
       "      <td>0</td>\n",
       "      <td>3418800.0</td>\n",
       "      <td>2532820.0</td>\n",
       "    </tr>\n",
       "    <tr>\n",
       "      <th>16968</th>\n",
       "      <td>5</td>\n",
       "      <td>5.25</td>\n",
       "      <td>5090</td>\n",
       "      <td>23669</td>\n",
       "      <td>2.0</td>\n",
       "      <td>0</td>\n",
       "      <td>0</td>\n",
       "      <td>3</td>\n",
       "      <td>12</td>\n",
       "      <td>5090</td>\n",
       "      <td>0</td>\n",
       "      <td>98004</td>\n",
       "      <td>3830</td>\n",
       "      <td>22605</td>\n",
       "      <td>8</td>\n",
       "      <td>0</td>\n",
       "      <td>3100000.0</td>\n",
       "      <td>2636748.0</td>\n",
       "    </tr>\n",
       "    <tr>\n",
       "      <th>14083</th>\n",
       "      <td>5</td>\n",
       "      <td>4.75</td>\n",
       "      <td>6200</td>\n",
       "      <td>13873</td>\n",
       "      <td>2.0</td>\n",
       "      <td>1</td>\n",
       "      <td>4</td>\n",
       "      <td>4</td>\n",
       "      <td>11</td>\n",
       "      <td>4440</td>\n",
       "      <td>1760</td>\n",
       "      <td>98008</td>\n",
       "      <td>2940</td>\n",
       "      <td>13525</td>\n",
       "      <td>25</td>\n",
       "      <td>0</td>\n",
       "      <td>3300000.0</td>\n",
       "      <td>3014730.0</td>\n",
       "    </tr>\n",
       "    <tr>\n",
       "      <th>21529</th>\n",
       "      <td>4</td>\n",
       "      <td>3.75</td>\n",
       "      <td>5090</td>\n",
       "      <td>14823</td>\n",
       "      <td>1.0</td>\n",
       "      <td>0</td>\n",
       "      <td>0</td>\n",
       "      <td>3</td>\n",
       "      <td>11</td>\n",
       "      <td>4180</td>\n",
       "      <td>910</td>\n",
       "      <td>98004</td>\n",
       "      <td>3030</td>\n",
       "      <td>12752</td>\n",
       "      <td>2</td>\n",
       "      <td>0</td>\n",
       "      <td>3000000.0</td>\n",
       "      <td>2534004.0</td>\n",
       "    </tr>\n",
       "    <tr>\n",
       "      <th>20459</th>\n",
       "      <td>5</td>\n",
       "      <td>3.75</td>\n",
       "      <td>5350</td>\n",
       "      <td>15360</td>\n",
       "      <td>1.0</td>\n",
       "      <td>0</td>\n",
       "      <td>1</td>\n",
       "      <td>3</td>\n",
       "      <td>11</td>\n",
       "      <td>3040</td>\n",
       "      <td>2310</td>\n",
       "      <td>98004</td>\n",
       "      <td>3740</td>\n",
       "      <td>15940</td>\n",
       "      <td>7</td>\n",
       "      <td>0</td>\n",
       "      <td>3345000.0</td>\n",
       "      <td>1936278.0</td>\n",
       "    </tr>\n",
       "    <tr>\n",
       "      <th>4411</th>\n",
       "      <td>5</td>\n",
       "      <td>5.75</td>\n",
       "      <td>9200</td>\n",
       "      <td>35069</td>\n",
       "      <td>2.0</td>\n",
       "      <td>0</td>\n",
       "      <td>0</td>\n",
       "      <td>3</td>\n",
       "      <td>13</td>\n",
       "      <td>6200</td>\n",
       "      <td>3000</td>\n",
       "      <td>98039</td>\n",
       "      <td>3560</td>\n",
       "      <td>24345</td>\n",
       "      <td>13</td>\n",
       "      <td>0</td>\n",
       "      <td>5570000.0</td>\n",
       "      <td>4495906.0</td>\n",
       "    </tr>\n",
       "    <tr>\n",
       "      <th>2085</th>\n",
       "      <td>4</td>\n",
       "      <td>4.25</td>\n",
       "      <td>5770</td>\n",
       "      <td>21300</td>\n",
       "      <td>2.0</td>\n",
       "      <td>1</td>\n",
       "      <td>4</td>\n",
       "      <td>4</td>\n",
       "      <td>11</td>\n",
       "      <td>5770</td>\n",
       "      <td>0</td>\n",
       "      <td>98040</td>\n",
       "      <td>4620</td>\n",
       "      <td>22748</td>\n",
       "      <td>34</td>\n",
       "      <td>0</td>\n",
       "      <td>3850000.0</td>\n",
       "      <td>3417594.0</td>\n",
       "    </tr>\n",
       "    <tr>\n",
       "      <th>15255</th>\n",
       "      <td>4</td>\n",
       "      <td>3.25</td>\n",
       "      <td>4830</td>\n",
       "      <td>22257</td>\n",
       "      <td>2.0</td>\n",
       "      <td>1</td>\n",
       "      <td>4</td>\n",
       "      <td>4</td>\n",
       "      <td>11</td>\n",
       "      <td>4830</td>\n",
       "      <td>0</td>\n",
       "      <td>98039</td>\n",
       "      <td>3820</td>\n",
       "      <td>25582</td>\n",
       "      <td>24</td>\n",
       "      <td>0</td>\n",
       "      <td>3640900.0</td>\n",
       "      <td>3252409.0</td>\n",
       "    </tr>\n",
       "    <tr>\n",
       "      <th>4149</th>\n",
       "      <td>4</td>\n",
       "      <td>5.50</td>\n",
       "      <td>7080</td>\n",
       "      <td>16573</td>\n",
       "      <td>2.0</td>\n",
       "      <td>0</td>\n",
       "      <td>0</td>\n",
       "      <td>3</td>\n",
       "      <td>12</td>\n",
       "      <td>5760</td>\n",
       "      <td>1320</td>\n",
       "      <td>98039</td>\n",
       "      <td>3140</td>\n",
       "      <td>15996</td>\n",
       "      <td>6</td>\n",
       "      <td>0</td>\n",
       "      <td>4000000.0</td>\n",
       "      <td>3750263.0</td>\n",
       "    </tr>\n",
       "    <tr>\n",
       "      <th>13967</th>\n",
       "      <td>4</td>\n",
       "      <td>3.50</td>\n",
       "      <td>4730</td>\n",
       "      <td>47870</td>\n",
       "      <td>1.0</td>\n",
       "      <td>1</td>\n",
       "      <td>4</td>\n",
       "      <td>3</td>\n",
       "      <td>10</td>\n",
       "      <td>2940</td>\n",
       "      <td>1790</td>\n",
       "      <td>98033</td>\n",
       "      <td>3250</td>\n",
       "      <td>49346</td>\n",
       "      <td>61</td>\n",
       "      <td>0</td>\n",
       "      <td>3395000.0</td>\n",
       "      <td>2932102.0</td>\n",
       "    </tr>\n",
       "    <tr>\n",
       "      <th>15482</th>\n",
       "      <td>4</td>\n",
       "      <td>3.25</td>\n",
       "      <td>7000</td>\n",
       "      <td>28206</td>\n",
       "      <td>1.0</td>\n",
       "      <td>1</td>\n",
       "      <td>4</td>\n",
       "      <td>4</td>\n",
       "      <td>12</td>\n",
       "      <td>3500</td>\n",
       "      <td>3500</td>\n",
       "      <td>98075</td>\n",
       "      <td>4913</td>\n",
       "      <td>14663</td>\n",
       "      <td>23</td>\n",
       "      <td>0</td>\n",
       "      <td>3200000.0</td>\n",
       "      <td>3504728.0</td>\n",
       "    </tr>\n",
       "    <tr>\n",
       "      <th>7252</th>\n",
       "      <td>6</td>\n",
       "      <td>8.00</td>\n",
       "      <td>12050</td>\n",
       "      <td>27600</td>\n",
       "      <td>2.5</td>\n",
       "      <td>0</td>\n",
       "      <td>3</td>\n",
       "      <td>4</td>\n",
       "      <td>13</td>\n",
       "      <td>8570</td>\n",
       "      <td>3480</td>\n",
       "      <td>98102</td>\n",
       "      <td>3940</td>\n",
       "      <td>8800</td>\n",
       "      <td>104</td>\n",
       "      <td>0</td>\n",
       "      <td>7700000.0</td>\n",
       "      <td>3408006.0</td>\n",
       "    </tr>\n",
       "    <tr>\n",
       "      <th>20294</th>\n",
       "      <td>4</td>\n",
       "      <td>4.00</td>\n",
       "      <td>4810</td>\n",
       "      <td>18851</td>\n",
       "      <td>2.0</td>\n",
       "      <td>0</td>\n",
       "      <td>3</td>\n",
       "      <td>3</td>\n",
       "      <td>11</td>\n",
       "      <td>4810</td>\n",
       "      <td>0</td>\n",
       "      <td>98004</td>\n",
       "      <td>3970</td>\n",
       "      <td>19929</td>\n",
       "      <td>7</td>\n",
       "      <td>0</td>\n",
       "      <td>3204000.0</td>\n",
       "      <td>2030490.0</td>\n",
       "    </tr>\n",
       "    <tr>\n",
       "      <th>3914</th>\n",
       "      <td>5</td>\n",
       "      <td>4.50</td>\n",
       "      <td>10040</td>\n",
       "      <td>37325</td>\n",
       "      <td>2.0</td>\n",
       "      <td>1</td>\n",
       "      <td>2</td>\n",
       "      <td>3</td>\n",
       "      <td>11</td>\n",
       "      <td>7680</td>\n",
       "      <td>2360</td>\n",
       "      <td>98004</td>\n",
       "      <td>3930</td>\n",
       "      <td>25449</td>\n",
       "      <td>74</td>\n",
       "      <td>0</td>\n",
       "      <td>7062500.0</td>\n",
       "      <td>3352108.0</td>\n",
       "    </tr>\n",
       "  </tbody>\n",
       "</table>\n",
       "</div>"
      ],
      "text/plain": [
       "       bedrooms  bathrooms  sqft_living  sqft_lot  floors  waterfront  view  \\\n",
       "18476         8       4.00         7710     11750     3.5           0     0   \n",
       "7989          3       4.50         5230     17826     2.0           1     4   \n",
       "5880          5       5.00         5450     20412     2.0           0     0   \n",
       "16968         5       5.25         5090     23669     2.0           0     0   \n",
       "14083         5       4.75         6200     13873     2.0           1     4   \n",
       "21529         4       3.75         5090     14823     1.0           0     0   \n",
       "20459         5       3.75         5350     15360     1.0           0     1   \n",
       "4411          5       5.75         9200     35069     2.0           0     0   \n",
       "2085          4       4.25         5770     21300     2.0           1     4   \n",
       "15255         4       3.25         4830     22257     2.0           1     4   \n",
       "4149          4       5.50         7080     16573     2.0           0     0   \n",
       "13967         4       3.50         4730     47870     1.0           1     4   \n",
       "15482         4       3.25         7000     28206     1.0           1     4   \n",
       "7252          6       8.00        12050     27600     2.5           0     3   \n",
       "20294         4       4.00         4810     18851     2.0           0     3   \n",
       "3914          5       4.50        10040     37325     2.0           1     2   \n",
       "\n",
       "       condition  grade  sqft_above  sqft_basement  zipcode  sqft_living15  \\\n",
       "18476          5     12        6090           1620    98112           4210   \n",
       "7989           3     10        3740           1490    98040           3670   \n",
       "5880           3     11        5450              0    98039           3160   \n",
       "16968          3     12        5090              0    98004           3830   \n",
       "14083          4     11        4440           1760    98008           2940   \n",
       "21529          3     11        4180            910    98004           3030   \n",
       "20459          3     11        3040           2310    98004           3740   \n",
       "4411           3     13        6200           3000    98039           3560   \n",
       "2085           4     11        5770              0    98040           4620   \n",
       "15255          4     11        4830              0    98039           3820   \n",
       "4149           3     12        5760           1320    98039           3140   \n",
       "13967          3     10        2940           1790    98033           3250   \n",
       "15482          4     12        3500           3500    98075           4913   \n",
       "7252           4     13        8570           3480    98102           3940   \n",
       "20294          3     11        4810              0    98004           3970   \n",
       "3914           3     11        7680           2360    98004           3930   \n",
       "\n",
       "       sqft_lot15  house_age  renovated     y_test     y_pred  \n",
       "18476        8325        110          0  3300000.0  3908672.0  \n",
       "7989        17826          9          0  3400000.0  3386186.0  \n",
       "5880        17825          0          0  3418800.0  2532820.0  \n",
       "16968       22605          8          0  3100000.0  2636748.0  \n",
       "14083       13525         25          0  3300000.0  3014730.0  \n",
       "21529       12752          2          0  3000000.0  2534004.0  \n",
       "20459       15940          7          0  3345000.0  1936278.0  \n",
       "4411        24345         13          0  5570000.0  4495906.0  \n",
       "2085        22748         34          0  3850000.0  3417594.0  \n",
       "15255       25582         24          0  3640900.0  3252409.0  \n",
       "4149        15996          6          0  4000000.0  3750263.0  \n",
       "13967       49346         61          0  3395000.0  2932102.0  \n",
       "15482       14663         23          0  3200000.0  3504728.0  \n",
       "7252         8800        104          0  7700000.0  3408006.0  \n",
       "20294       19929          7          0  3204000.0  2030490.0  \n",
       "3914        25449         74          0  7062500.0  3352108.0  "
      ]
     },
     "execution_count": 54,
     "metadata": {},
     "output_type": "execute_result"
    }
   ],
   "source": [
    "df[(df.y_test >= 3000000)]"
   ]
  },
  {
   "cell_type": "markdown",
   "metadata": {},
   "source": [
    "##### conclusions: There are some hidden factors that are not covered in feature space."
   ]
  },
  {
   "cell_type": "markdown",
   "metadata": {},
   "source": [
    "#### Feature Importance"
   ]
  },
  {
   "cell_type": "code",
   "execution_count": 55,
   "metadata": {},
   "outputs": [],
   "source": [
    "ct = xgb.named_steps['transformer']\n",
    "tx = ct.get_params()['transformers']\n",
    "feature_names = []\n",
    "for name,transformer,features in tx:\n",
    "    try:\n",
    "        Var = ct.named_transformers_[name].get_feature_names().tolist()\n",
    "    except AttributeError:\n",
    "        Var = features\n",
    "    feature_names = feature_names + Var\n",
    "\n",
    "features = {i: name for i,name in enumerate(feature_names)}"
   ]
  },
  {
   "cell_type": "code",
   "execution_count": 56,
   "metadata": {},
   "outputs": [
    {
     "data": {
      "image/png": "[encoded data removed]",
      "text/plain": [
       "<Figure size 1440x720 with 1 Axes>"
      ]
     },
     "metadata": {
      "needs_background": "light"
     },
     "output_type": "display_data"
    }
   ],
   "source": [
    "model = xgb.named_steps[\"xgb\"]\n",
    "model.get_booster().feature_names\n",
    "\n",
    "feature_important = model.get_booster().get_score(importance_type='weight')\n",
    "\n",
    "index_lst = [int(k.strip('f')) for k in feature_important.keys()] \n",
    "keys = [features[i] for i in index_lst]\n",
    "values = list(feature_important.values())\n",
    "\n",
    "data = pd.DataFrame(data=values, index=keys, columns=[\"score\"]).sort_values(by = \"score\", ascending=False)\n",
    "data.nlargest(20, columns=\"score\").plot(kind='barh',  figsize = (20,10)).invert_yaxis() ## plot top 20 features"
   ]
  },
  {
   "cell_type": "markdown",
   "metadata": {},
   "source": [
    "## Conclusion\n",
    "\n",
    "In this task, we build an Extreme Griant Boost regressor for King county house price dataset.<br> \n",
    "- **Data preprocessing**: First, I cleaned the data, and then did feature engineering, parsing column age and column renovation status, and then explored finished dataset. Second, I splited data into 30% testing data and 70% training data. Last, I encoded categorical features and scaled numerical features in the pipeline.<br> \n",
    "- **Model selection and parameter tuning**: I compared Ridge, randomforest regression, polynomial regression, and XGBoost regression with 5-fold cross validation and then picked XGBoost, which has the highest R2 score. Then I trained model with gridsearch, finding the best parameter combination. And then fit model with this set of paramters.\n",
    "- **Model evaluation**: I predicted y with pre-trained model and generated a scatter plot showing the relationship between predicted target and actual target, and then I computed a list of evaluation scores( rmse, mse, R2). <br>\n",
    "- **Error analysis**: I did error analysis by explaining samples where the model make errors.<br>\n",
    "- **Model Interpretation**: I checked feature importance.<br>\n",
    "- **Model Improvement**: I dropped outliers and categorized locations by zip code.(Location is very important to house price.)"
   ]
  },
  {
   "cell_type": "markdown",
   "metadata": {},
   "source": [
    "#### Data source:\n",
    "https://www.kaggle.com/harlfoxem/housesalesprediction/code\n",
    "#### Reference:\n",
    "https://xgboost.readthedocs.io/en/stable/parameter.html<br>\n",
    "https://machinelearningmastery.com/xgboost-for-regression/<br>\n",
    "https://www.analyticsvidhya.com/blog/2016/03/complete-guide-parameter-tuning-xgboost-with-codes-python/\n",
    "\n",
    "\n"
   ]
  }
 ],
 "metadata": {
  "interpreter": {
   "hash": "535e7dfa4e79b8a16ee5958c03c29abfca9eab7a4cbaa00a7baba8beca86875c"
  },
  "kernelspec": {
   "display_name": "Python 3.10.2 64-bit",
   "language": "python",
   "name": "python3"
  },
  "language_info": {
   "codemirror_mode": {
    "name": "ipython",
    "version": 3
   },
   "file_extension": ".py",
   "mimetype": "text/x-python",
   "name": "python",
   "nbconvert_exporter": "python",
   "pygments_lexer": "ipython3",
   "version": "3.10.2"
  },
  "orig_nbformat": 4
 },
 "nbformat": 4,
 "nbformat_minor": 2
}
